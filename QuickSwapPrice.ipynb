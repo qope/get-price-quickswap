{
 "cells": [
  {
   "cell_type": "code",
   "execution_count": 1,
   "id": "2083b071",
   "metadata": {},
   "outputs": [],
   "source": [
    "from web3 import Web3,HTTPProvider\n",
    "import json\n",
    "\n",
    "RPC_URL = \"https://polygon-rpc.com\" # Polygon Matic RPC address\n",
    "FACTORY_ADDRESS = \"0x5757371414417b8C6CAad45bAeF941aBc7d3Ab32\" # QuickSwap V2Factory\n",
    "DAI_ADDRESS = \"0x8f3Cf7ad23Cd3CaDbD9735AFf958023239c6A063\" # DAI on polygon\n",
    "WETH_ADDRESS =\"0x7ceB23fD6bC0adD59E62ac25578270cFf1b9f619\"# WETH on polygon\n",
    "\n",
    "with open(\"abis/IUniswapV2Pair.json\", \"r\") as f:\n",
    "    IUniswapV2Pair =json.loads(f.read())\n",
    "with open(\"abis/IUniswapV2Factory.json\", \"r\") as f:\n",
    "    IUniswapV2Factory =json.loads(f.read())\n",
    "\n",
    "w3 = Web3(HTTPProvider(RPC_URL))\n",
    "factory = w3.eth.contract(address = FACTORY_ADDRESS , abi = IUniswapV2Factory[\"abi\"])"
   ]
  },
  {
   "cell_type": "code",
   "execution_count": 2,
   "id": "09e5ceaa",
   "metadata": {},
   "outputs": [
    {
     "name": "stdout",
     "output_type": "stream",
     "text": [
      "token0 =  0x7ceB23fD6bC0adD59E62ac25578270cFf1b9f619\n",
      "token1 =  0x8f3Cf7ad23Cd3CaDbD9735AFf958023239c6A063\n"
     ]
    }
   ],
   "source": [
    "eth_dai_address = factory.functions.getPair(DAI_ADDRESS , WETH_ADDRESS).call()\n",
    "eth_dai = w3.eth.contract(address = eth_dai_address, abi = IUniswapV2Pair[\"abi\"])\n",
    "print(\"token0 = \",  eth_dai.functions.token0().call())\n",
    "print(\"token1 = \",  eth_dai.functions.token1().call())"
   ]
  },
  {
   "cell_type": "code",
   "execution_count": 3,
   "id": "f400003b",
   "metadata": {},
   "outputs": [
    {
     "name": "stdout",
     "output_type": "stream",
     "text": [
      "token0 reserver =  3011.0020617262417\n",
      "token1 reserver =  6044944.342691134\n",
      " block.timestamp =  1653455247\n"
     ]
    }
   ],
   "source": [
    "reserves = eth_dai.functions.getReserves().call()\n",
    "print(\"token0 reserver = \", reserves[0]*10**(-18))\n",
    "print(\"token1 reserver = \", reserves[1]*10**(-18))\n",
    "print(\" block.timestamp = \", reserves[2])"
   ]
  },
  {
   "cell_type": "code",
   "execution_count": 4,
   "id": "bab35c40",
   "metadata": {},
   "outputs": [
    {
     "name": "stdout",
     "output_type": "stream",
     "text": [
      "token0 price =  2007.618798914239\n"
     ]
    }
   ],
   "source": [
    "print(\"token0 price = \", reserves[1]/reserves[0]) # DAI/ETH price in this case"
   ]
  }
 ],
 "metadata": {
  "kernelspec": {
   "display_name": "Python 3 (ipykernel)",
   "language": "python",
   "name": "python3"
  },
  "language_info": {
   "codemirror_mode": {
    "name": "ipython",
    "version": 3
   },
   "file_extension": ".py",
   "mimetype": "text/x-python",
   "name": "python",
   "nbconvert_exporter": "python",
   "pygments_lexer": "ipython3",
   "version": "3.9.10"
  }
 },
 "nbformat": 4,
 "nbformat_minor": 5
}
